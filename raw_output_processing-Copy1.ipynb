{
 "cells": [
  {
   "cell_type": "markdown",
   "metadata": {},
   "source": [
    "# Poll raw output translation\n",
    "\n",
    "These scripts take a raw Stata output .txt file provided by our pollster and translate them into pandas dataframe, which is used to export a sensible Excel file, with each tab representing a question. The scripts then output HTML topline charts and HTML tables in the Star Tribune's existing style."
   ]
  },
  {
   "cell_type": "code",
   "execution_count": 1,
   "metadata": {},
   "outputs": [],
   "source": [
    "import re\n",
    "import pandas as pd"
   ]
  },
  {
   "cell_type": "code",
   "execution_count": 15,
   "metadata": {},
   "outputs": [],
   "source": [
    "results_output = open('data/MNOutput520.txt', 'r').read()\n",
    "# results_output = open('data/mnpoll_201910_raw.txt', 'r').read()\n",
    "# results_output"
   ]
  },
  {
   "cell_type": "code",
   "execution_count": 16,
   "metadata": {},
   "outputs": [
    {
     "name": "stdout",
     "output_type": "stream",
     "text": [
      "[]\n"
     ]
    }
   ],
   "source": [
    "question_finder = r'(Task number.+?)\\*+\\n\\*+'\n",
    "questions = re.findall(question_finder, results_output, re.DOTALL)"
   ]
  },
  {
   "cell_type": "code",
   "execution_count": 4,
   "metadata": {},
   "outputs": [],
   "source": [
    "def parse_question_answers(q_text):\n",
    "    '''Potential answers are 1 or 2 lines of text between a row of ---- and and row of ==='''\n",
    "    q_answers_raw = re.search(r'-+\\s+\\n(.+?)\\n\\s+=', q_text, re.DOTALL).group(1)\n",
    "    q_answers_lines = q_answers_raw.split('\\n')\n",
    "    q_answers_lines_parsed = []\n",
    "    for line in q_answers_lines:\n",
    "        # Find the word groups in each row. Right now this only works if the label is one word, no spaces. But could be modified\n",
    "        q_answers_lines_parsed.append(re.findall(r'\\s([\\w\\d]+)', line))\n",
    "    \n",
    "    first_row = q_answers_lines_parsed[0]\n",
    "    for row in q_answers_lines_parsed[1:]:\n",
    "        for key, cell in enumerate(row):\n",
    "            first_row[key] += cell\n",
    "        \n",
    "    return first_row"
   ]
  },
  {
   "cell_type": "code",
   "execution_count": 5,
   "metadata": {},
   "outputs": [],
   "source": [
    "def parse_table(table_text, choices):\n",
    "    # Lines in a table body have two line breaks between them\n",
    "    lines = re.split(r'\\n\\s+\\n', table_text)\n",
    "    table_data = []\n",
    "    for l in lines:\n",
    "        if l != '':\n",
    "            line_label = re.search(r'(.+?)\\s{2,}', l).group(1)\n",
    "            line_data = re.findall(r'\\s{2,}([\\d\\.]+)', l)\n",
    "            line_data_tagged = [{'choice': choices[k], 'value': cell} for k, cell in enumerate(line_data)]\n",
    "            table_data.append({\n",
    "                'segment': line_label,\n",
    "                'data': line_data_tagged\n",
    "            })\n",
    "    return table_data"
   ]
  },
  {
   "cell_type": "code",
   "execution_count": 6,
   "metadata": {},
   "outputs": [],
   "source": [
    "def parse_segments(q_text, q_choices):\n",
    "    # Find segment headers and content of results table until next tilde or end of string\n",
    "    segment_finder = r'~([\\w\\s]+) \\n-+(.+?(?=~|\\Z))'\n",
    "    segments = re.findall(segment_finder, q_text, re.DOTALL)\n",
    "    segment_list = []\n",
    "    for s in segments:\n",
    "        segment_name = 'OVERALL' if s[0] == 'RESULTS' else s[0]\n",
    "        segment_list.append({\n",
    "            'segment_name': segment_name,\n",
    "            'table_data': parse_table(s[1], q_choices)\n",
    "        })\n",
    "    return segment_list"
   ]
  },
  {
   "cell_type": "code",
   "execution_count": 7,
   "metadata": {},
   "outputs": [],
   "source": [
    "BREAKDOWN_ORDER = ['OVERALL', 'SEX', 'PARTY ID', 'AGE', 'INCOME', 'REGION']\n",
    "SEGMENT_REPLACE_LOOKUP = {\n",
    "    'STATE': 'OVERALL',\n",
    "    'MALE': 'Men',\n",
    "    'FEMALE': 'Women',\n",
    "    'DEM/DFL': 'DFL / Democrat',\n",
    "    'REP': 'Republican',\n",
    "    'IND': 'Independent / Other',\n",
    "    '18-34': '18-34',\n",
    "    '35-49': '35-49',\n",
    "    '50-64': '50-64',\n",
    "    '65+': '65+',\n",
    "    'REF': 'REF',\n",
    "    '<$50,000': 'Under $50,000',\n",
    "    '$50,000+': '$50,000 and over',\n",
    "    'HENNEPIN/RAMSEY': 'Hennepin / Ramsey',\n",
    "    'METRO SUBURBS': 'Metro Suburbs',\n",
    "    'SOUTHERN MN': 'Southern Minn.',\n",
    "    'NORTHERN MN': 'Northern Minn.',\n",
    "}\n",
    "SEGMENT_ORDER = list(SEGMENT_REPLACE_LOOKUP.keys())"
   ]
  },
  {
   "cell_type": "code",
   "execution_count": 8,
   "metadata": {},
   "outputs": [],
   "source": [
    "def make_dataframe(q_title, q_choices, q_segments):\n",
    "    df = pd.DataFrame()\n",
    "    for segment_type in q_segments:\n",
    "        segment_name = segment_type['segment_name']\n",
    "        for segment in segment_type['table_data']:\n",
    "            seg_df = pd.DataFrame(segment['data'])\n",
    "            seg_df['value'] = seg_df['value'].astype(float)\n",
    "            seg_df['segment'] = segment['segment']\n",
    "            seg_df['breakdown'] = segment_name\n",
    "            df = df.append(seg_df)\n",
    "\n",
    "    # Pivot to video, er, Strib style\n",
    "    pt = df.pivot_table('value', ['breakdown', 'segment'], 'choice').reset_index()\n",
    "\n",
    "    # Change order\n",
    "    def assign_order(value, ordering_keys):\n",
    "        return ordering_keys[value]\n",
    "    breakdown_ordering_keys = {v: k for k, v in enumerate(BREAKDOWN_ORDER)}\n",
    "    segment_ordering_keys = {v: k for k, v in enumerate(SEGMENT_ORDER)}\n",
    "    pt['breakdown_order'] = pt.breakdown.apply(assign_order, args=(breakdown_ordering_keys,))\n",
    "    pt['segment_order'] = pt.segment.apply(assign_order, args=(segment_ordering_keys,))\n",
    "    pt.sort_values(['breakdown_order', 'segment_order'], inplace=True)\n",
    "    \n",
    "    # Make Strib style\n",
    "    def reformat_segment(value):\n",
    "        return SEGMENT_REPLACE_LOOKUP[value]\n",
    "    pt['segment'] = pt.segment.map(reformat_segment)\n",
    "    \n",
    "    # Drop temp columns\n",
    "    pt.drop(columns=['breakdown_order', 'segment_order'], inplace=True)\n",
    "    \n",
    "    # Add \"raw\" columns and round orig columns\n",
    "    for c in q_choices:\n",
    "        pt['{}_raw'.format(c)] = pt[c]\n",
    "        pt[c] = pt[c].astype(\"float\").round()\n",
    "    return pt"
   ]
  },
  {
   "cell_type": "code",
   "execution_count": 9,
   "metadata": {},
   "outputs": [],
   "source": [
    "def format_value(str_input, add_pct):\n",
    "    pct_value = '%' if add_pct else ''\n",
    "    return '{}{}'.format(str(round(float(str_input))), pct_value)"
   ]
  },
  {
   "cell_type": "code",
   "execution_count": 10,
   "metadata": {},
   "outputs": [],
   "source": [
    "def build_topline_chart(segments):\n",
    "    html = ''\n",
    "    chart_data = segments['table_data'][0]['data']\n",
    "    header_items = ['<td class=\"label\" width=\"{}\">{}</td>'.format(format_value(dp['value'], True), dp['choice']) for dp in chart_data]\n",
    "    header = '<tr>{}</tr>'.format(''.join(header_items))\n",
    "    \n",
    "    body_items = ['<td class=\"bar\" width=\"{}\">{}</td>'.format(format_value(dp['value'], True), format_value(dp['value'], True)) for dp in chart_data]\n",
    "    body = '<tr>{}</tr>'.format(''.join(body_items))\n",
    "    return '\\n<table class=\"stacked-bar-graph\"><tbody>\\n{}\\n{}\\n</tbody></table>\\n'.format(header, body)"
   ]
  },
  {
   "cell_type": "code",
   "execution_count": 11,
   "metadata": {},
   "outputs": [],
   "source": [
    "def build_topline_chart_df(q_choices, df):\n",
    "    html = ''\n",
    "\n",
    "    header_items = ['<td class=\"label\" width=\"{}\">{}</td>\\n'.format(df[choice], choice.title()) for choice in q_choices]\n",
    "    header = '<tr>\\n{}</tr>\\n'.format(''.join(header_items))\n",
    "    \n",
    "    body_items = ['<td class=\"bar\" width=\"{}\">{}</td>\\n'.format(format_value(df[choice], True), format_value(df[choice], True)) for choice in q_choices]\n",
    "    body = '<tr>{}</tr>'.format(''.join(body_items))\n",
    "    return '\\n<table class=\"stacked-bar-graph\"><tbody>\\n{}\\n{}\\n</tbody></table>\\n'.format(header, body)"
   ]
  },
  {
   "cell_type": "code",
   "execution_count": 12,
   "metadata": {},
   "outputs": [],
   "source": [
    "def build_question_html_df(q_title, q_choices, q_df):\n",
    "    h_df = q_df.copy()\n",
    "\n",
    "    # Build topline (first row) into chart\n",
    "    topline_df = h_df.iloc[0]\n",
    "    topline_chart = build_topline_chart_df(q_choices, topline_df)\n",
    "\n",
    "    # Remove first row since it's in chart\n",
    "    h_df = h_df.drop(h_df.index[0]).reset_index().drop(columns=[\"index\"])\n",
    "    \n",
    "    # Remove REF row\n",
    "    h_df = h_df[h_df['segment'] != 'REF']\n",
    "    \n",
    "    # Drop raw columns\n",
    "    h_df = h_df[h_df.columns.drop(list(h_df.filter(regex='_raw')))]\n",
    "    \n",
    "    # Apply % to new first row\n",
    "    def add_pct(row):\n",
    "        if row.name == 0:\n",
    "            return row.apply(lambda x: '{}%'.format(str(int(x))))\n",
    "        return row.apply(lambda x: str(int(x)))\n",
    "    h_df[q_choices] = h_df[q_choices].apply(add_pct, axis=1)\n",
    "    \n",
    "    html = '<thead>\\n<tr><th>&nbsp;</th><th>{}</th></tr>\\n</thead>\\n'.format('</th><th>'.join([choice.title() for choice in q_choices]))\n",
    "    for breakdown in BREAKDOWN_ORDER:\n",
    "        if breakdown not in 'OVERALL':\n",
    "            for index, row in h_df[h_df['breakdown'] == breakdown].copy().reset_index().iterrows():\n",
    "                choice_values = [str(row[x]) for x in q_choices]\n",
    "                if index == h_df[h_df['breakdown'] == breakdown].shape[0] - 1:\n",
    "                    tr_class = ' class=\"last_line\"'\n",
    "                else:\n",
    "                    tr_class = ''\n",
    "                html += '<tr{}><th scope=\"row\">{}</th><td>{}</td></tr>\\n'.format(tr_class, row['segment'], '</td><td>'.join(choice_values))\n",
    "\n",
    "    return '<h2>{}</h2>\\n{}<table class=\"poll-question\">\\n<tbody>\\n{}</tbody>\\n</table>\\n'.format(q_title, topline_chart, html)"
   ]
  },
  {
   "cell_type": "code",
   "execution_count": 13,
   "metadata": {},
   "outputs": [],
   "source": [
    "# Create a Pandas Excel writer using XlsxWriter as the engine.\n",
    "writer = pd.ExcelWriter('data/poll_findings.xlsx', engine='xlsxwriter')\n",
    "\n",
    "for k, q in enumerate(questions):\n",
    "    # Question title is first line that starts with a tilde\n",
    "    q_title = re.search(r'~([\\w\\d\\s\\?\\-]+?)\\n', q).group(1).strip()\n",
    "    q_choices = parse_question_answers(q)\n",
    "    q_segments = parse_segments(q, q_choices)\n",
    "    \n",
    "    # Make into sensible pandas dataframe\n",
    "    q_df = make_dataframe(q_title, q_choices, q_segments)\n",
    "#     display(q_df)\n",
    "\n",
    "    # Clean up q title for Excel\n",
    "    worksheet_title = re.sub(r'[\\?]', '', '{}) {}'.format(k, q_title))\n",
    "    # Write each dataframe to a different worksheet.\n",
    "    q_df.to_excel(writer, sheet_name=worksheet_title, index=False)\n",
    "    \n",
    "#     q_html = build_question_html(q_title, q_choices, q_segments)\n",
    "    q_html_df = build_question_html_df(q_title, q_choices, q_df)\n",
    "    print(q_html_df)\n",
    "\n",
    "# Close the Pandas Excel writer and output the Excel file.\n",
    "writer.save()"
   ]
  },
  {
   "cell_type": "code",
   "execution_count": null,
   "metadata": {},
   "outputs": [],
   "source": []
  }
 ],
 "metadata": {
  "kernelspec": {
   "display_name": "Python 3",
   "language": "python",
   "name": "python3"
  },
  "language_info": {
   "codemirror_mode": {
    "name": "ipython",
    "version": 3
   },
   "file_extension": ".py",
   "mimetype": "text/x-python",
   "name": "python",
   "nbconvert_exporter": "python",
   "pygments_lexer": "ipython3",
   "version": "3.8.1"
  }
 },
 "nbformat": 4,
 "nbformat_minor": 2
}
