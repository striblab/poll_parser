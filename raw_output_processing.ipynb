{
 "cells": [
  {
   "cell_type": "markdown",
   "metadata": {},
   "source": [
    "# Poll raw output translation\n",
    "\n",
    "These scripts take a raw Stata output .txt file provided by our pollster and translate them into pandas dataframe, which is used to export a sensible Excel file, with each tab representing a question. The scripts then output HTML topline charts and HTML tables in the Star Tribune's existing style."
   ]
  },
  {
   "cell_type": "code",
   "execution_count": 1,
   "metadata": {},
   "outputs": [],
   "source": [
    "from poll_utils import *\n",
    "# import re\n",
    "# import pandas as pd"
   ]
  },
  {
   "cell_type": "code",
   "execution_count": 2,
   "metadata": {},
   "outputs": [],
   "source": [
    "# results_output = open('data/MNOutput520.txt', 'r').read()\n",
    "results_output = open('data/mnpoll_20200924_raw.txt', 'r').read()\n",
    "results_export_file = 'data/mnpoll_20200924_results.xlsx'\n",
    "# results_output"
   ]
  },
  {
   "cell_type": "code",
   "execution_count": 3,
   "metadata": {},
   "outputs": [
    {
     "name": "stdout",
     "output_type": "stream",
     "text": [
      "PRESIDENTIAL VOTE\n",
      "MOST INFLUENTIAL VOTING ISSUE\n",
      "US SENATE VOTE TRUMP JOB PERFORMANCE\n",
      "SMITH JOB PERFORMANCE WALZ JOB PERFORMANCE\n",
      "HOW WILL YOU VOTE? MAIL-IN VOTING\n",
      "IMMEDIATELY TAKE KNOW ANYONE VACCINE? TESTED POSITIVE?\n",
      "SERIOUSLY ILL FROM CORONAVIRUS GEORGE FLOYD DEATH\n",
      "WHITE EQUAL\n",
      "OPINION OF BLACK LIVES SENATE VOTE ON SUPREME MATTER COURT NOMINEE\n",
      "9\n",
      "PRESIDENTIAL VOTE\n",
      "segname: RESULTS\n",
      "('\\n \\nRESULTS ', 'STATE                387     333      18      62 \\n                    48.4    41.6     2.3     7.8 ')\n",
      "segname: REGION\n",
      "('\\nREGION ', 'HENNEPIN/RAMSEY      183      57       9      11 \\n                    70.4    21.9     3.5     4.2 \\n \\nMETRO SUBURBS         87     103       5      20 \\n                    40.5    47.9     2.3     9.3 \\n \\nSOUTHERN MN           56      82       2      15 \\n                    36.1    52.9     1.3     9.7 \\n \\nNORTHERN MN           61      91       2      16 \\n                    35.9    53.5     1.2     9.4 ')\n",
      "segname: GENDERID\n",
      "('GENDER ID ', 'MALE                 169     184       9      22 \\n                    44.0    47.9     2.3     5.7 \\n \\nFEMALE               217     149       8      40 \\n                    52.4    36.0     1.9     9.7 \\n \\nOTHER                  1       0       1       0 \\n                    50.0     0.0    50.0     0.0 ')\n",
      "segname: PARTYID\n",
      "('PARTY ID ', 'DFL/DEMOCRAT         262      22       9      14 \\n                    85.3     7.2     2.9     4.6 \\n \\nREPUBLICAN            27     220       2      22 \\n                    10.0    81.2     0.7     8.1 \\n \\nINDEPENDENT/OTHER     98      91       7      26 \\n                    44.1    41.0     3.2    11.7 ')\n",
      "segname: AGE\n",
      "('AGE ', '18-34                 92      30       6      18 \\n                    63.0    20.5     4.1    12.3 \\n \\n35-49                103     100       5      21 \\n                    45.0    43.7     2.2     9.2 \\n \\n50-64                105     110       4      15 \\n                    44.9    47.0     1.7     6.4 \\n \\n65+                   84      90       3       7 \\n                    45.7    48.9     1.6     3.8 \\n \\nREF                    3       3       0       1 \\n                    42.9    42.9     0.0    14.3 ')\n",
      "segname: EDUCATION\n",
      "('EDUCATION ', 'HIGH SCHOOL           58      91       4      15 \\n                    34.5    54.2     2.4     8.9 \\n \\nSOME COLLEGE         105     108       7      21 \\n                    43.6    44.8     2.9     8.7 \\n \\nCOLLEGE GRAD         128      98       5      21 \\n                    50.8    38.9     2.0     8.3 \\n \\nGRAD DEGREE           88      32       2       5 \\n                    69.3    25.2     1.6     3.9 \\n \\nREFUSED                8       4       0       0 \\n                    66.7    33.3     0.0     0.0 ')\n",
      "segname: ETHNICITY\n",
      "('ETHNICITY ', 'WHITE                330     307      14      49 \\n                    47.1    43.9     2.0     7.0 \\n \\nBLACK                 28       4       4       5 \\n                    68.3     9.8     9.8    12.2 \\n \\nHISPANIC              12       8       0       3 \\n                    52.2    34.8     0.0    13.0 \\n \\nASIAN                  5       2       0       2 \\n                    55.6    22.2     0.0    22.2 \\n \\nOTHER                 10       9       0       1 \\n                    50.0    45.0     0.0     5.0 \\n \\nREFUSED                2       3       0       2 \\n                    28.6    42.9     0.0    28.6 ')\n",
      "MOST INFLUENTIAL VOTING ISSUE\n",
      "segname: RESULTS\n",
      "('\\n \\nRESULTS ', 'STATE                187      97     116     111     107      62      99       4       8       9 \\n                    23.4    12.1    14.5    13.9    13.4     7.8    12.4     0.5     1.0     1.1 ')\n"
     ]
    },
    {
     "ename": "IndexError",
     "evalue": "list index out of range",
     "output_type": "error",
     "traceback": [
      "\u001b[0;31m---------------------------------------------------------------------------\u001b[0m",
      "\u001b[0;31mIndexError\u001b[0m                                Traceback (most recent call last)",
      "\u001b[0;32m<ipython-input-3-a710fe66c681>\u001b[0m in \u001b[0;36m<module>\u001b[0;34m\u001b[0m\n\u001b[1;32m     10\u001b[0m     \u001b[0mq_choices\u001b[0m \u001b[0;34m=\u001b[0m \u001b[0mparse_question_answers\u001b[0m\u001b[0;34m(\u001b[0m\u001b[0mq\u001b[0m\u001b[0;34m[\u001b[0m\u001b[0;34m'full_text'\u001b[0m\u001b[0;34m]\u001b[0m\u001b[0;34m)\u001b[0m\u001b[0;34m\u001b[0m\u001b[0;34m\u001b[0m\u001b[0m\n\u001b[1;32m     11\u001b[0m \u001b[0;31m#     print(q_choices)\u001b[0m\u001b[0;34m\u001b[0m\u001b[0;34m\u001b[0m\u001b[0;34m\u001b[0m\u001b[0m\n\u001b[0;32m---> 12\u001b[0;31m     \u001b[0mq_segments\u001b[0m \u001b[0;34m=\u001b[0m \u001b[0mparse_segments\u001b[0m\u001b[0;34m(\u001b[0m\u001b[0mq\u001b[0m\u001b[0;34m[\u001b[0m\u001b[0;34m'full_text'\u001b[0m\u001b[0;34m]\u001b[0m\u001b[0;34m,\u001b[0m \u001b[0mq_choices\u001b[0m\u001b[0;34m)\u001b[0m\u001b[0;34m\u001b[0m\u001b[0;34m\u001b[0m\u001b[0m\n\u001b[0m\u001b[1;32m     13\u001b[0m \u001b[0;31m#     print(q_segments)\u001b[0m\u001b[0;34m\u001b[0m\u001b[0;34m\u001b[0m\u001b[0;34m\u001b[0m\u001b[0m\n\u001b[1;32m     14\u001b[0m \u001b[0;34m\u001b[0m\u001b[0m\n",
      "\u001b[0;32m~/Documents/MNPoll/poll_parser/poll_utils.py\u001b[0m in \u001b[0;36mparse_segments\u001b[0;34m(q_text, q_choices)\u001b[0m\n\u001b[1;32m    169\u001b[0m         segment_list.append({\n\u001b[1;32m    170\u001b[0m             \u001b[0;34m'segment_name'\u001b[0m\u001b[0;34m:\u001b[0m \u001b[0msegment_name\u001b[0m\u001b[0;34m,\u001b[0m\u001b[0;34m\u001b[0m\u001b[0;34m\u001b[0m\u001b[0m\n\u001b[0;32m--> 171\u001b[0;31m             \u001b[0;34m'table_data'\u001b[0m\u001b[0;34m:\u001b[0m \u001b[0mparse_table\u001b[0m\u001b[0;34m(\u001b[0m\u001b[0ms\u001b[0m\u001b[0;34m[\u001b[0m\u001b[0;36m1\u001b[0m\u001b[0;34m]\u001b[0m\u001b[0;34m,\u001b[0m \u001b[0mq_choices\u001b[0m\u001b[0;34m)\u001b[0m\u001b[0;34m\u001b[0m\u001b[0;34m\u001b[0m\u001b[0m\n\u001b[0m\u001b[1;32m    172\u001b[0m         })\n\u001b[1;32m    173\u001b[0m     \u001b[0;32mreturn\u001b[0m \u001b[0msegment_list\u001b[0m\u001b[0;34m\u001b[0m\u001b[0;34m\u001b[0m\u001b[0m\n",
      "\u001b[0;32m~/Documents/MNPoll/poll_parser/poll_utils.py\u001b[0m in \u001b[0;36mparse_table\u001b[0;34m(table_text, choices)\u001b[0m\n\u001b[1;32m    147\u001b[0m \u001b[0;34m\u001b[0m\u001b[0m\n\u001b[1;32m    148\u001b[0m \u001b[0;31m#             line_data = re.findall(r'\\s{2,}([\\d\\.]+)', l)\u001b[0m\u001b[0;34m\u001b[0m\u001b[0;34m\u001b[0m\u001b[0;34m\u001b[0m\u001b[0m\n\u001b[0;32m--> 149\u001b[0;31m             \u001b[0mline_data_tagged\u001b[0m \u001b[0;34m=\u001b[0m \u001b[0;34m[\u001b[0m\u001b[0;34m{\u001b[0m\u001b[0;34m'choice'\u001b[0m\u001b[0;34m:\u001b[0m \u001b[0mchoices\u001b[0m\u001b[0;34m[\u001b[0m\u001b[0mk\u001b[0m\u001b[0;34m]\u001b[0m\u001b[0;34m,\u001b[0m \u001b[0;34m'count'\u001b[0m\u001b[0;34m:\u001b[0m \u001b[0mcell\u001b[0m\u001b[0;34m,\u001b[0m \u001b[0;34m'pct'\u001b[0m\u001b[0;34m:\u001b[0m \u001b[0mpct_row_data\u001b[0m\u001b[0;34m[\u001b[0m\u001b[0mk\u001b[0m\u001b[0;34m]\u001b[0m\u001b[0;34m}\u001b[0m \u001b[0;32mfor\u001b[0m \u001b[0mk\u001b[0m\u001b[0;34m,\u001b[0m \u001b[0mcell\u001b[0m \u001b[0;32min\u001b[0m \u001b[0menumerate\u001b[0m\u001b[0;34m(\u001b[0m\u001b[0mraw_row_data\u001b[0m\u001b[0;34m)\u001b[0m\u001b[0;34m]\u001b[0m\u001b[0;34m\u001b[0m\u001b[0;34m\u001b[0m\u001b[0m\n\u001b[0m\u001b[1;32m    150\u001b[0m             table_data.append({\n\u001b[1;32m    151\u001b[0m                 \u001b[0;34m'segment'\u001b[0m\u001b[0;34m:\u001b[0m \u001b[0mline_label\u001b[0m\u001b[0;34m,\u001b[0m\u001b[0;34m\u001b[0m\u001b[0;34m\u001b[0m\u001b[0m\n",
      "\u001b[0;32m~/Documents/MNPoll/poll_parser/poll_utils.py\u001b[0m in \u001b[0;36m<listcomp>\u001b[0;34m(.0)\u001b[0m\n\u001b[1;32m    147\u001b[0m \u001b[0;34m\u001b[0m\u001b[0m\n\u001b[1;32m    148\u001b[0m \u001b[0;31m#             line_data = re.findall(r'\\s{2,}([\\d\\.]+)', l)\u001b[0m\u001b[0;34m\u001b[0m\u001b[0;34m\u001b[0m\u001b[0;34m\u001b[0m\u001b[0m\n\u001b[0;32m--> 149\u001b[0;31m             \u001b[0mline_data_tagged\u001b[0m \u001b[0;34m=\u001b[0m \u001b[0;34m[\u001b[0m\u001b[0;34m{\u001b[0m\u001b[0;34m'choice'\u001b[0m\u001b[0;34m:\u001b[0m \u001b[0mchoices\u001b[0m\u001b[0;34m[\u001b[0m\u001b[0mk\u001b[0m\u001b[0;34m]\u001b[0m\u001b[0;34m,\u001b[0m \u001b[0;34m'count'\u001b[0m\u001b[0;34m:\u001b[0m \u001b[0mcell\u001b[0m\u001b[0;34m,\u001b[0m \u001b[0;34m'pct'\u001b[0m\u001b[0;34m:\u001b[0m \u001b[0mpct_row_data\u001b[0m\u001b[0;34m[\u001b[0m\u001b[0mk\u001b[0m\u001b[0;34m]\u001b[0m\u001b[0;34m}\u001b[0m \u001b[0;32mfor\u001b[0m \u001b[0mk\u001b[0m\u001b[0;34m,\u001b[0m \u001b[0mcell\u001b[0m \u001b[0;32min\u001b[0m \u001b[0menumerate\u001b[0m\u001b[0;34m(\u001b[0m\u001b[0mraw_row_data\u001b[0m\u001b[0;34m)\u001b[0m\u001b[0;34m]\u001b[0m\u001b[0;34m\u001b[0m\u001b[0;34m\u001b[0m\u001b[0m\n\u001b[0m\u001b[1;32m    150\u001b[0m             table_data.append({\n\u001b[1;32m    151\u001b[0m                 \u001b[0;34m'segment'\u001b[0m\u001b[0;34m:\u001b[0m \u001b[0mline_label\u001b[0m\u001b[0;34m,\u001b[0m\u001b[0;34m\u001b[0m\u001b[0;34m\u001b[0m\u001b[0m\n",
      "\u001b[0;31mIndexError\u001b[0m: list index out of range"
     ]
    }
   ],
   "source": [
    "# Create a Pandas Excel writer using XlsxWriter as the engine.\n",
    "writer = pd.ExcelWriter(results_export_file, engine='xlsxwriter')\n",
    "records = find_questions(results_output)\n",
    "\n",
    "for k, q in enumerate(records):\n",
    "    # Question title is first line that starts with a tilde\n",
    "#     q_title = re.search(r'([\\w\\d\\s\\?\\-]+?)\\n', q['full_text']).group(1).strip()\n",
    "    q_title = q['question'].replace('\\n', ' ').strip()\n",
    "    print(q_title)\n",
    "    q_choices = parse_question_answers(q['full_text'])\n",
    "#     print(q_choices)\n",
    "    q_segments = parse_segments(q['full_text'], q_choices)\n",
    "#     print(q_segments)\n",
    "    \n",
    "    # Make into sensible pandas dataframe\n",
    "#     q_df = make_dataframe(q_title, q_choices, q_segments)\n",
    "#     display(q_df)\n",
    "\n",
    "#     # Clean up q title for Excel\n",
    "#     worksheet_title = re.sub(r'[\\?]', '', '{}) {}'.format(k+1, q_title))\n",
    "#     # Write each dataframe to a different worksheet.\n",
    "#     q_df.to_excel(writer, sheet_name=worksheet_title[:31], index=False)\n",
    "    \n",
    "#     q_html_df = build_question_html_df(q_title, q_choices, q_df)\n",
    "#     print(q_html_df)\n",
    "\n",
    "# Close the Pandas Excel writer and output the Excel file.\n",
    "writer.save()"
   ]
  },
  {
   "cell_type": "code",
   "execution_count": null,
   "metadata": {},
   "outputs": [],
   "source": []
  }
 ],
 "metadata": {
  "kernelspec": {
   "display_name": "Python 3",
   "language": "python",
   "name": "python3"
  },
  "language_info": {
   "codemirror_mode": {
    "name": "ipython",
    "version": 3
   },
   "file_extension": ".py",
   "mimetype": "text/x-python",
   "name": "python",
   "nbconvert_exporter": "python",
   "pygments_lexer": "ipython3",
   "version": "3.8.1"
  }
 },
 "nbformat": 4,
 "nbformat_minor": 2
}
